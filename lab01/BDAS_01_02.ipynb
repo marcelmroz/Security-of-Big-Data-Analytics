{
 "cells": [
  {
   "cell_type": "markdown",
   "metadata": {},
   "source": [
    "Security of Big Data Analytics\n",
    "# Laboratory 01: Lab enviroment"
   ]
  },
  {
   "cell_type": "markdown",
   "metadata": {},
   "source": [
    "To test the correctness of the prepared environment create two short programs:\n",
    "1. Create a program that facilitates user interaction and enables basic arithmetic operations, including addition,\n",
    "subtraction, multiplication, and division.\n",
    "Write the code fragment responsible for the divide operation:\n"
   ]
  },
  {
   "cell_type": "code",
   "execution_count": 10,
   "metadata": {},
   "outputs": [
    {
     "name": "stdout",
     "output_type": "stream",
     "text": [
      "\n",
      "Options:\n",
      "Enter 'add' for addition\n",
      "Enter 'subtract' for subtraction\n",
      "Enter 'multiply' for multiplication\n",
      "Enter 'divide' for division\n",
      "Enter 'quit' to end the program\n",
      "The result of 1.0 + 2.0 is: 3.0\n"
     ]
    }
   ],
   "source": [
    "print(\"\\nOptions:\")\n",
    "print(\"Enter 'add' for addition\")\n",
    "print(\"Enter 'subtract' for subtraction\")\n",
    "print(\"Enter 'multiply' for multiplication\")\n",
    "print(\"Enter 'divide' for division\")\n",
    "print(\"Enter 'quit' to end the program\")\n",
    "\n",
    "def add(x, y):\n",
    "    return x + y\n",
    "\n",
    "def subtract(x, y):\n",
    "    return x - y\n",
    "\n",
    "def multiply(x, y):\n",
    "    return x * y\n",
    "\n",
    "def divide(x, y):\n",
    "    if y == 0:\n",
    "        return \"Division by zero is not allowed!\"\n",
    "    return x / y\n",
    "\n",
    "user_input = input(\": \")\n",
    "\n",
    "if user_input in (\"add\", \"subtract\", \"multiply\", \"divide\"):\n",
    "    x = float(input(\"Enter first number: \"))\n",
    "    y = float(input(\"Enter second number: \"))\n",
    "\n",
    "    if user_input == \"add\":\n",
    "        print(f\"The result of {x} + {y} is: {add(x, y)}\")\n",
    "\n",
    "    elif user_input == \"subtract\":\n",
    "        print(f\"The result of {x} - {y} is: {subtract(x, y)}\")\n",
    "\n",
    "    elif user_input == \"multiply\":\n",
    "        print(f\"The result of {x} * {y} is: {multiply(x, y)}\")\n",
    "\n",
    "    elif user_input == \"divide\":\n",
    "        print(f\"The result of {x} / {y} is: {divide(x, y)}\")\n",
    "else:\n",
    "    print(\"Invalid input\")"
   ]
  },
  {
   "cell_type": "markdown",
   "metadata": {},
   "source": [
    "Create a program to read data from data_01.txt (the file contains two columns of counts), then perform the\n",
    "selected arithmetic operation on the data (line by line) and write the result to a new file in the following form:\n",
    "number_1 the symbol of the operation (e.g. +) number_2 = the result of the operation."
   ]
  },
  {
   "cell_type": "code",
   "execution_count": 1,
   "metadata": {},
   "outputs": [
    {
     "name": "stdout",
     "output_type": "stream",
     "text": [
      "Select an operation:\n",
      "Enter 'add' for addition\n",
      "Enter 'subtract' for subtraction\n",
      "Enter 'multiply' for multiplication\n",
      "Enter 'divide' for division\n",
      "Invalid operation\n"
     ]
    }
   ],
   "source": [
    "def arithmetic_operation(a, b, operation):\n",
    "    if operation == 'add':\n",
    "        return a + b, '+'\n",
    "    elif operation == 'subtract':\n",
    "        return a - b, '-'\n",
    "    elif operation == 'multiply':\n",
    "        return a * b, '*'\n",
    "    elif operation == 'divide':\n",
    "        if b == 0:\n",
    "            return None, '/'\n",
    "        return a / b, '/'\n",
    "    else:\n",
    "        return None, None\n",
    "\n",
    "def main():\n",
    "    print(\"Select an operation:\")\n",
    "    print(\"Enter 'add' for addition\")\n",
    "    print(\"Enter 'subtract' for subtraction\")\n",
    "    print(\"Enter 'multiply' for multiplication\")\n",
    "    print(\"Enter 'divide' for division\")\n",
    "    operation = input(\": \")\n",
    "\n",
    "    if operation not in ['add', 'subtract', 'multiply', 'divide']:\n",
    "        print(\"Invalid operation\")\n",
    "        return\n",
    "\n",
    "    try:\n",
    "        with open(\"data_01.txt\", 'r') as f:\n",
    "            data_lines = f.readlines()\n",
    "\n",
    "        with open(\"144654_BDAS_01_04.txt\", 'w') as result_file:\n",
    "            for line in data_lines:\n",
    "                number_1, number_2 = map(float, line.split())\n",
    "                result, symbol = arithmetic_operation(number_1, number_2, operation)\n",
    "\n",
    "                if result is not None:\n",
    "                    result_file.write(f\"{number_1} {symbol} {number_2} = {result}\\n\")\n",
    "                else:\n",
    "                    result_file.write(f\"{number_1} {symbol} {number_2} = Undefined (division by zero)\\n\")\n",
    "\n",
    "        print(\"Results written to '144654_BDAS_01_04.txt'.\")\n",
    "\n",
    "    except Exception as e:\n",
    "        print(f\"An error occurred: {e}\")\n",
    "\n",
    "if __name__ == \"__main__\":\n",
    "    main()\n"
   ]
  }
 ],
 "metadata": {
  "kernelspec": {
   "display_name": "python_course",
   "language": "python",
   "name": "python3"
  },
  "language_info": {
   "codemirror_mode": {
    "name": "ipython",
    "version": 3
   },
   "file_extension": ".py",
   "mimetype": "text/x-python",
   "name": "python",
   "nbconvert_exporter": "python",
   "pygments_lexer": "ipython3",
   "version": "3.7.10"
  },
  "orig_nbformat": 4
 },
 "nbformat": 4,
 "nbformat_minor": 2
}
